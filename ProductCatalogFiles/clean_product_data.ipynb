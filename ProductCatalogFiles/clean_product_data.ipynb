{
 "cells": [
  {
   "cell_type": "markdown",
   "source": [
    "Title: Creating Product Dataset\n",
    "Author: Linus Jones, Robin Steinkühler, Alex Wirhts\n",
    "Date: 12.02.2023\n",
    "\n",
    "Sources: https://www.ah.nl/producten (original products and corresponding information)"
   ],
   "metadata": {
    "collapsed": false,
    "pycharm": {
     "name": "#%% md\n"
    }
   }
  },
  {
   "cell_type": "code",
   "execution_count": 16,
   "metadata": {
    "collapsed": true,
    "pycharm": {
     "name": "#%%\n"
    }
   },
   "outputs": [],
   "source": [
    "import pandas as pd\n",
    "\n",
    "# importing initial product dataset\n",
    "products = pd.read_csv(\"ah_products.csv\")\n",
    "products = products[['cat_name', 'sub_cat_name', 'name_product', 'price_euro', 'price_cent', 'unit', 'weight', 'kcal', 'Attributes', 'ingridients']]\n",
    "\n",
    "n = len(products)"
   ]
  },
  {
   "cell_type": "markdown",
   "source": [
    "Manipulating product dataset:\n",
    "- Storing different attributes in individual binary variables\n",
    "- Merging the price (currently split into euro and cent"
   ],
   "metadata": {
    "collapsed": false,
    "pycharm": {
     "name": "#%% md\n"
    }
   }
  },
  {
   "cell_type": "code",
   "source": [
    "attribute_list = [\"Vegetarisch\", \"Veganistisch\", \"Biologisch\", \"Glutenvrij\", \"Lactosevrij\", \"Beter Leven 3 Ster\",\"Beter Leven 2 Ster\",\"Beter Leven 1 Ster\"]\n",
    "products[attribute_list] = None\n",
    "products[\"Price\"] = None\n",
    "old_product = None\n",
    "c = 0\n",
    "\n",
    "# looping over products to correct attributes and price variables\n",
    "for i in range(n):\n",
    "    attribute, product = products.loc[i, \"Attributes\"], products.loc[i, \"name_product\"]\n",
    "    # stores data in correct row if one product has multiple attributes\n",
    "    if product == old_product:\n",
    "        c += 1\n",
    "    else:\n",
    "        c = 0\n",
    "        old_product = product\n",
    "\n",
    "    # checking if attribute is of relevance and storing it in corresponding variable\n",
    "    for j in attribute_list:\n",
    "        if attribute == j:\n",
    "            products.loc[i-c, j] = 1\n",
    "\n",
    "    # merging price in euro and the cent value\n",
    "    euro, cent = products.loc[i, 'price_euro'], products.loc[i, 'price_cent']\n",
    "    products.loc[i, \"Price\"] = float(str(euro) + '.' + str(cent))\n",
    "\n",
    "\n",
    "# merging \"Beter Leven\" variable\n",
    "products[\"Beter Leven\"] = None\n",
    "\n",
    "for i in range(n):\n",
    "    if products.loc[i, \"Beter Leven 1 Ster\"] == 1:\n",
    "        products.loc[i, \"Beter Leven\"] = 1\n",
    "    elif products.loc[i, \"Beter Leven 2 Ster\"] == 1:\n",
    "        products.loc[i, \"Beter Leven\"] = 2\n",
    "    elif products.loc[i, \"Beter Leven 3 Ster\"] == 1:\n",
    "        products.loc[i, \"Beter Leven\"] = 3"
   ],
   "metadata": {
    "collapsed": false,
    "pycharm": {
     "name": "#%%\n"
    }
   },
   "execution_count": 17,
   "outputs": []
  },
  {
   "cell_type": "markdown",
   "source": [
    "- Removing unnecessary variables\n",
    "- Removing duplicate products (rows)\n",
    "- Renaming and sorting variables"
   ],
   "metadata": {
    "collapsed": false,
    "pycharm": {
     "name": "#%% md\n"
    }
   }
  },
  {
   "cell_type": "code",
   "execution_count": 18,
   "outputs": [],
   "source": [
    "# dropping cols\n",
    "products.drop([\"price_cent\", \"price_euro\", \"Attributes\", \"Beter Leven 1 Ster\", \"Beter Leven 2 Ster\", \"Beter Leven 3 Ster\" ], axis=1, inplace=True)\n",
    "\n",
    "# dropping duplicates\n",
    "duplicates = []\n",
    "old_product = None\n",
    "# looping over dataframe to find duplicate products\n",
    "for i in range(n):\n",
    "    product = products.loc[i, \"name_product\"]\n",
    "    if product == old_product:\n",
    "        duplicates.append(i)\n",
    "    else:\n",
    "        old_product = product\n",
    "\n",
    "# dropping rows\n",
    "products.drop(duplicates, axis=0, inplace=True)\n",
    "\n",
    "# renaming and sortign cols\n",
    "products.columns = [\"category\", \"sub category\", \"product\", \"unit\", \"weight\", \"calories\", \"ingredients\", \"vegetarian\", \"vegan\", \"organic\", \"gluten free\", \"lactose free\", \"price\", \"beter leven\"]\n",
    "\n",
    "sorted_cols = [\"category\", \"sub category\", \"product\", \"price\", \"organic\", \"vegetarian\", \"vegan\",  \"gluten free\", \"lactose free\",  \"beter leven\", \"unit\", \"weight\", \"calories\", \"ingredients\"]\n",
    "products = products.reindex(sorted_cols, axis=1)"
   ],
   "metadata": {
    "collapsed": false,
    "pycharm": {
     "name": "#%%\n"
    }
   }
  },
  {
   "cell_type": "markdown",
   "source": [
    "Storing product dataset as csv"
   ],
   "metadata": {
    "collapsed": false,
    "pycharm": {
     "name": "#%% md\n"
    }
   }
  },
  {
   "cell_type": "code",
   "execution_count": 19,
   "outputs": [],
   "source": [
    "products.to_csv(\"AH_product_dataset\")"
   ],
   "metadata": {
    "collapsed": false,
    "pycharm": {
     "name": "#%%\n"
    }
   }
  }
 ],
 "metadata": {
  "kernelspec": {
   "display_name": "Python 3",
   "language": "python",
   "name": "python3"
  },
  "language_info": {
   "codemirror_mode": {
    "name": "ipython",
    "version": 2
   },
   "file_extension": ".py",
   "mimetype": "text/x-python",
   "name": "python",
   "nbconvert_exporter": "python",
   "pygments_lexer": "ipython2",
   "version": "2.7.6"
  }
 },
 "nbformat": 4,
 "nbformat_minor": 0
}